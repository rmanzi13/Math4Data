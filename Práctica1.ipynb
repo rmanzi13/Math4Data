{
  "nbformat": 4,
  "nbformat_minor": 0,
  "metadata": {
    "colab": {
      "provenance": [],
      "mount_file_id": "1EtMCXX_YZMiR4tVRqwKulA1um-9vlPuU",
      "authorship_tag": "ABX9TyMufoXlp1bffJ7jb3k5oAJx",
      "include_colab_link": true
    },
    "kernelspec": {
      "name": "python3",
      "display_name": "Python 3"
    },
    "language_info": {
      "name": "python"
    }
  },
  "cells": [
    {
      "cell_type": "markdown",
      "metadata": {
        "id": "view-in-github",
        "colab_type": "text"
      },
      "source": [
        "<a href=\"https://colab.research.google.com/github/rmanzi13/Math4Data/blob/main/Pr%C3%A1ctica1.ipynb\" target=\"_parent\"><img src=\"https://colab.research.google.com/assets/colab-badge.svg\" alt=\"Open In Colab\"/></a>"
      ]
    },
    {
      "cell_type": "code",
      "execution_count": 3,
      "metadata": {
        "colab": {
          "base_uri": "https://localhost:8080/"
        },
        "id": "Di9XOlJhHW4d",
        "outputId": "4af58c2e-2f31-407e-f35b-ae23eb025320"
      },
      "outputs": [
        {
          "output_type": "stream",
          "name": "stdout",
          "text": [
            "Looking in indexes: https://pypi.org/simple, https://us-python.pkg.dev/colab-wheels/public/simple/\n",
            "Collecting pyspark\n",
            "  Downloading pyspark-3.3.1.tar.gz (281.4 MB)\n",
            "\u001b[2K     \u001b[90m━━━━━━━━━━━━━━━━━━━━━━━━━━━━━━━━━━━━━━━\u001b[0m \u001b[32m281.4/281.4 MB\u001b[0m \u001b[31m4.8 MB/s\u001b[0m eta \u001b[36m0:00:00\u001b[0m\n",
            "\u001b[?25h  Preparing metadata (setup.py) ... \u001b[?25l\u001b[?25hdone\n",
            "Collecting py4j==0.10.9.5\n",
            "  Downloading py4j-0.10.9.5-py2.py3-none-any.whl (199 kB)\n",
            "\u001b[2K     \u001b[90m━━━━━━━━━━━━━━━━━━━━━━━━━━━━━━━━━━━━━━\u001b[0m \u001b[32m199.7/199.7 KB\u001b[0m \u001b[31m21.7 MB/s\u001b[0m eta \u001b[36m0:00:00\u001b[0m\n",
            "\u001b[?25hBuilding wheels for collected packages: pyspark\n",
            "  Building wheel for pyspark (setup.py) ... \u001b[?25l\u001b[?25hdone\n",
            "  Created wheel for pyspark: filename=pyspark-3.3.1-py2.py3-none-any.whl size=281845512 sha256=399ebdb31ef8fcf6ce3624bd53bc42ae05bf5b2b4247a6f9626abf12ff7b0f74\n",
            "  Stored in directory: /root/.cache/pip/wheels/43/dc/11/ec201cd671da62fa9c5cc77078235e40722170ceba231d7598\n",
            "Successfully built pyspark\n",
            "Installing collected packages: py4j, pyspark\n",
            "Successfully installed py4j-0.10.9.5 pyspark-3.3.1\n"
          ]
        }
      ],
      "source": [
        "!pip install pyspark"
      ]
    },
    {
      "cell_type": "code",
      "source": [
        "from pyspark.sql import SparkSession"
      ],
      "metadata": {
        "id": "oDkC53gQH5_m"
      },
      "execution_count": 4,
      "outputs": []
    },
    {
      "cell_type": "code",
      "source": [
        "from google.colab import drive"
      ],
      "metadata": {
        "id": "IK2ZN_spIHzY"
      },
      "execution_count": 5,
      "outputs": []
    },
    {
      "cell_type": "code",
      "source": [
        "drive.mount(\"/drive\")"
      ],
      "metadata": {
        "colab": {
          "base_uri": "https://localhost:8080/"
        },
        "id": "bW0wrnCZISS2",
        "outputId": "4ba35108-e312-4c44-9f32-f3a9b7aa1123"
      },
      "execution_count": 6,
      "outputs": [
        {
          "output_type": "stream",
          "name": "stdout",
          "text": [
            "Mounted at /drive\n"
          ]
        }
      ]
    },
    {
      "cell_type": "code",
      "source": [
        "spark = SparkSession.builder.appName(\"my_app\").getOrCreate()"
      ],
      "metadata": {
        "id": "jHmgt_OeIixd"
      },
      "execution_count": 7,
      "outputs": []
    },
    {
      "cell_type": "code",
      "source": [
        "df = spark.read.option(\"Header\", True).csv(\"/content/drive/MyDrive/ARCHIVOS PROYECTO/CSV_stocks_2021.csv\")"
      ],
      "metadata": {
        "id": "C8tAQIRrI0Cp"
      },
      "execution_count": 12,
      "outputs": []
    },
    {
      "cell_type": "code",
      "source": [
        "df"
      ],
      "metadata": {
        "colab": {
          "base_uri": "https://localhost:8080/"
        },
        "id": "rhWfxKx9MMJ3",
        "outputId": "74a9abe1-b64a-4b0b-ab4e-e6f070ff797d"
      },
      "execution_count": 13,
      "outputs": [
        {
          "output_type": "execute_result",
          "data": {
            "text/plain": [
              "DataFrame[ticker: string, open: string, high: string, low: string, close: string, volume: string, dividends: string, stock splits: string, date: string, ccy: string]"
            ]
          },
          "metadata": {},
          "execution_count": 13
        }
      ]
    },
    {
      "cell_type": "code",
      "source": [
        "df.printSchema()"
      ],
      "metadata": {
        "colab": {
          "base_uri": "https://localhost:8080/"
        },
        "id": "FfsRB0DvO9Nm",
        "outputId": "9dba8036-44df-4aad-ed8c-ce7c5dd5ae25"
      },
      "execution_count": 14,
      "outputs": [
        {
          "output_type": "stream",
          "name": "stdout",
          "text": [
            "root\n",
            " |-- ticker: string (nullable = true)\n",
            " |-- open: string (nullable = true)\n",
            " |-- high: string (nullable = true)\n",
            " |-- low: string (nullable = true)\n",
            " |-- close: string (nullable = true)\n",
            " |-- volume: string (nullable = true)\n",
            " |-- dividends: string (nullable = true)\n",
            " |-- stock splits: string (nullable = true)\n",
            " |-- date: string (nullable = true)\n",
            " |-- ccy: string (nullable = true)\n",
            "\n"
          ]
        }
      ]
    },
    {
      "cell_type": "code",
      "source": [
        "df.show(3)"
      ],
      "metadata": {
        "colab": {
          "base_uri": "https://localhost:8080/"
        },
        "id": "ju6GagRZPDj7",
        "outputId": "6f17a606-89cb-4983-9320-7cb948ec166b"
      },
      "execution_count": 15,
      "outputs": [
        {
          "output_type": "stream",
          "name": "stdout",
          "text": [
            "+------+------------------+------------------+------------------+------------------+-------+---------+------------+----------+---+\n",
            "|ticker|              open|              high|               low|             close| volume|dividends|stock splits|      date|ccy|\n",
            "+------+------------------+------------------+------------------+------------------+-------+---------+------------+----------+---+\n",
            "|   HON|207.45501408335315|209.42141232111007|206.14735745495346|209.12644958496094|1406400|      0.0|           0|2020-12-31|USD|\n",
            "|   HON|209.26409612607986|209.43123817541044| 202.8929700588177| 204.4562530517578|2328900|      0.0|           0|2021-01-04|USD|\n",
            "|   HON|203.50255708426138| 206.6586329757187|203.50255708426138|204.95770263671875|2172100|      0.0|           0|2021-01-05|USD|\n",
            "+------+------------------+------------------+------------------+------------------+-------+---------+------------+----------+---+\n",
            "only showing top 3 rows\n",
            "\n"
          ]
        }
      ]
    },
    {
      "cell_type": "code",
      "source": [
        "df.show(15)"
      ],
      "metadata": {
        "colab": {
          "base_uri": "https://localhost:8080/"
        },
        "id": "2DK3uMEWP45X",
        "outputId": "0f5ad9e8-3c6b-4ff4-83c1-c9861f878add"
      },
      "execution_count": 16,
      "outputs": [
        {
          "output_type": "stream",
          "name": "stdout",
          "text": [
            "+------+------------------+------------------+------------------+------------------+-------+---------+------------+----------+---+\n",
            "|ticker|              open|              high|               low|             close| volume|dividends|stock splits|      date|ccy|\n",
            "+------+------------------+------------------+------------------+------------------+-------+---------+------------+----------+---+\n",
            "|   HON|207.45501408335315|209.42141232111007|206.14735745495346|209.12644958496094|1406400|      0.0|           0|2020-12-31|USD|\n",
            "|   HON|209.26409612607986|209.43123817541044| 202.8929700588177| 204.4562530517578|2328900|      0.0|           0|2021-01-04|USD|\n",
            "|   HON|203.50255708426138| 206.6586329757187|203.50255708426138|204.95770263671875|2172100|      0.0|           0|2021-01-05|USD|\n",
            "|   HON|205.93106042557045|210.38495140642195|205.71475541084416|   208.69384765625|2747900|      0.0|           0|2021-01-06|USD|\n",
            "|   HON|209.31327369732284|210.41445198270796|207.25839100319203|209.03797912597656|2057300|      0.0|           0|2021-01-07|USD|\n",
            "|   HON|209.22477804904162|209.82453011896777| 204.1809617069155|206.50131225585938|3278900|      0.0|           0|2021-01-08|USD|\n",
            "|   HON|  204.613559972612|206.09818517407587|204.33826543197534|204.85935974121094|2938900|      0.0|           0|2021-01-11|USD|\n",
            "|   HON|  204.367783872409| 205.9605617566175|201.81145998195402| 205.3706512451172|2498800|      0.0|           0|2021-01-12|USD|\n",
            "|   HON|  204.780710862364| 205.1149949615185|202.93229172186355|203.54188537597656|2145100|      0.0|           0|2021-01-13|USD|\n",
            "|   HON|204.54474810663825|206.25552005813464|203.69919622290033| 205.1051788330078|3661500|      0.0|           0|2021-01-14|USD|\n",
            "|   HON|204.04330969253792|204.36776719848436|    201.7524539705|  202.509521484375|3887500|      0.0|           0|2021-01-15|USD|\n",
            "|   HON| 204.7414004554059|205.25265322179186| 202.9814655406593| 203.2862548828125|2656300|      0.0|           0|2021-01-19|USD|\n",
            "|   HON| 204.4267604669998|205.16415981146147|203.19776155956373|204.58407592773438|2452400|      0.0|           0|2021-01-20|USD|\n",
            "|   HON|203.38457127629206|204.31860744308085|201.65414621989987|201.78195190429688|2705100|      0.0|           0|2021-01-21|USD|\n",
            "|   HON| 200.8282604869766|201.02491232627204| 198.0064836217491|198.85203552246094|3502700|      0.0|           0|2021-01-22|USD|\n",
            "+------+------------------+------------------+------------------+------------------+-------+---------+------------+----------+---+\n",
            "only showing top 15 rows\n",
            "\n"
          ]
        }
      ]
    },
    {
      "cell_type": "code",
      "source": [
        "df_gold = df.filter(df.ticker == 'GOLD')"
      ],
      "metadata": {
        "id": "0vkBZG_mP_kw"
      },
      "execution_count": 17,
      "outputs": []
    },
    {
      "cell_type": "code",
      "source": [
        "df_gold.show()"
      ],
      "metadata": {
        "colab": {
          "base_uri": "https://localhost:8080/"
        },
        "id": "97nUUz45Q9Gs",
        "outputId": "77ea4ec3-fb52-42ff-8a00-053c84d8ad38"
      },
      "execution_count": 20,
      "outputs": [
        {
          "output_type": "stream",
          "name": "stdout",
          "text": [
            "+------+------------------+------------------+------------------+------------------+--------+---------+------------+----------+---+\n",
            "|ticker|              open|              high|               low|             close|  volume|dividends|stock splits|      date|ccy|\n",
            "+------+------------------+------------------+------------------+------------------+--------+---------+------------+----------+---+\n",
            "|  GOLD|22.396357876868176|22.415624002019847| 21.86655229642893|21.943614959716797|18088000|      0.0|           0|2020-12-31|USD|\n",
            "|  GOLD| 22.97432757969563|  23.8894464291543| 22.75277266388846| 23.71605682373047|41044700|      0.0|           0|2021-01-04|USD|\n",
            "|  GOLD|24.014676568290795| 24.03394269418461|23.205517653939516| 23.38854217529297|30884800|      0.0|           0|2021-01-05|USD|\n",
            "|  GOLD|23.186251350241353|23.667893469979873|  23.0224929560375|  23.6004638671875|30367800|      0.0|           0|2021-01-06|USD|\n",
            "|  GOLD| 23.63899500309041|23.947245651204845| 23.35964170491246|23.860549926757812|18996000|      0.0|           0|2021-01-07|USD|\n",
            "|  GOLD|23.330743004826786|23.475237106801554| 22.71424169572474|23.089921951293945|25824800|      0.0|           0|2021-01-08|USD|\n",
            "|  GOLD| 22.66607952008131|22.906900587427746| 22.57938378885108| 22.65644645690918|21563700|      0.0|           0|2021-01-11|USD|\n",
            "|  GOLD|22.723874152595734|22.800936814179238|22.348193907041008|22.675710678100586|22550300|      0.0|           0|2021-01-12|USD|\n",
            "|  GOLD|22.733505249023438| 23.02248974564124| 22.62754340951489|22.733505249023438|17298500|      0.0|           0|2021-01-13|USD|\n",
            "|  GOLD|22.704607915038316|23.032124684470283| 22.67571056541235|22.810569763183594|15120900|      0.0|           0|2021-01-14|USD|\n",
            "|  GOLD| 22.71424129793876| 22.85873356006426|22.261498386660517|22.290395736694336|16309900|      0.0|           0|2021-01-15|USD|\n",
            "|  GOLD|22.473421035662714|22.617913302848464| 22.26149916627821|22.531217575073242|16575400|      0.0|           0|2021-01-19|USD|\n",
            "|  GOLD|22.858734076843252|23.080289006265744|22.714241811451142|22.955062866210938|17136400|      0.0|           0|2021-01-20|USD|\n",
            "|  GOLD|22.964695085584662|  22.9935942725294| 22.55048259263725|22.810569763183594|14076300|      0.0|           0|2021-01-21|USD|\n",
            "|  GOLD|22.328928711020325|22.829836950806257|22.078474591127357|22.608280181884766|13121400|      0.0|           0|2021-01-22|USD|\n",
            "|  GOLD| 22.73350726626386|22.887632589778697| 22.35782518254251|22.579381942749023|15448600|      0.0|           0|2021-01-25|USD|\n",
            "|  GOLD|22.579382053396085|22.694975127939266|22.386724479399053|22.425256729125977|11643800|      0.0|           0|2021-01-26|USD|\n",
            "|  GOLD|22.242232070173216|22.261498194909013| 21.07665724612054|21.182619094848633|32615300|      0.0|           0|2021-01-27|USD|\n",
            "|  GOLD|21.616098461405194|21.722058476474242|21.278948616159134| 21.53903579711914|23204400|      0.0|           0|2021-01-28|USD|\n",
            "|  GOLD|22.059209299596034|22.232600761255743|21.433074894850698|21.548669815063477|25413900|      0.0|           0|2021-01-29|USD|\n",
            "+------+------------------+------------------+------------------+------------------+--------+---------+------------+----------+---+\n",
            "only showing top 20 rows\n",
            "\n"
          ]
        }
      ]
    },
    {
      "cell_type": "code",
      "source": [
        "df_gold.agg({'open':'mean'}).show()"
      ],
      "metadata": {
        "colab": {
          "base_uri": "https://localhost:8080/"
        },
        "id": "LQdfBRvyRtiJ",
        "outputId": "707e83d0-975a-4802-9c29-921b4f4d8a5d"
      },
      "execution_count": 21,
      "outputs": [
        {
          "output_type": "stream",
          "name": "stdout",
          "text": [
            "+------------------+\n",
            "|         avg(open)|\n",
            "+------------------+\n",
            "|20.338983488223743|\n",
            "+------------------+\n",
            "\n"
          ]
        }
      ]
    },
    {
      "cell_type": "code",
      "source": [
        "df_gold.agg({'low':'mean'}).show()"
      ],
      "metadata": {
        "colab": {
          "base_uri": "https://localhost:8080/"
        },
        "id": "nEH2sIopSGeq",
        "outputId": "2dc12e16-7e9a-4495-80a8-58076f301a96"
      },
      "execution_count": 23,
      "outputs": [
        {
          "output_type": "stream",
          "name": "stdout",
          "text": [
            "+------------------+\n",
            "|          avg(low)|\n",
            "+------------------+\n",
            "|20.073286365783012|\n",
            "+------------------+\n",
            "\n"
          ]
        }
      ]
    },
    {
      "cell_type": "code",
      "source": [
        "df.agg({'open':'mean'}).show()"
      ],
      "metadata": {
        "colab": {
          "base_uri": "https://localhost:8080/"
        },
        "id": "nrNuI0vLSn2g",
        "outputId": "d5e7b5c7-23a6-47bb-be9e-f9aa5d402309"
      },
      "execution_count": 24,
      "outputs": [
        {
          "output_type": "stream",
          "name": "stdout",
          "text": [
            "+-----------------+\n",
            "|        avg(open)|\n",
            "+-----------------+\n",
            "|278.0612842540383|\n",
            "+-----------------+\n",
            "\n"
          ]
        }
      ]
    },
    {
      "cell_type": "code",
      "source": [
        "df.agg({'low':'mean'}).show()"
      ],
      "metadata": {
        "colab": {
          "base_uri": "https://localhost:8080/"
        },
        "id": "5MzD7t-yS3Zs",
        "outputId": "8436265f-d86c-4af1-979d-3de5b4fd88b9"
      },
      "execution_count": 25,
      "outputs": [
        {
          "output_type": "stream",
          "name": "stdout",
          "text": [
            "+------------------+\n",
            "|          avg(low)|\n",
            "+------------------+\n",
            "|274.65344625831915|\n",
            "+------------------+\n",
            "\n"
          ]
        }
      ]
    }
  ]
}